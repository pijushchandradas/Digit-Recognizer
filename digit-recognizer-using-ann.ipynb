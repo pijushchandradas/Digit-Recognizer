{
 "cells": [
  {
   "cell_type": "code",
   "execution_count": 1,
   "id": "6beb88e1",
   "metadata": {
    "_cell_guid": "b1076dfc-b9ad-4769-8c92-a6c4dae69d19",
    "_uuid": "8f2839f25d086af736a60e9eeb907d3b93b6e0e5",
    "execution": {
     "iopub.execute_input": "2023-02-12T08:09:29.362698Z",
     "iopub.status.busy": "2023-02-12T08:09:29.362137Z",
     "iopub.status.idle": "2023-02-12T08:09:29.377404Z",
     "shell.execute_reply": "2023-02-12T08:09:29.376400Z"
    },
    "papermill": {
     "duration": 0.026064,
     "end_time": "2023-02-12T08:09:29.379903",
     "exception": false,
     "start_time": "2023-02-12T08:09:29.353839",
     "status": "completed"
    },
    "tags": []
   },
   "outputs": [
    {
     "name": "stdout",
     "output_type": "stream",
     "text": [
      "/kaggle/input/digit-recognizer/sample_submission.csv\n",
      "/kaggle/input/digit-recognizer/train.csv\n",
      "/kaggle/input/digit-recognizer/test.csv\n"
     ]
    }
   ],
   "source": [
    "# This Python 3 environment comes with many helpful analytics libraries installed\n",
    "# It is defined by the kaggle/python Docker image: https://github.com/kaggle/docker-python\n",
    "# For example, here's several helpful packages to load\n",
    "\n",
    "import numpy as np # linear algebra\n",
    "import pandas as pd # data processing, CSV file I/O (e.g. pd.read_csv)\n",
    "\n",
    "# Input data files are available in the read-only \"../input/\" directory\n",
    "# For example, running this (by clicking run or pressing Shift+Enter) will list all files under the input directory\n",
    "\n",
    "import os\n",
    "for dirname, _, filenames in os.walk('/kaggle/input'):\n",
    "    for filename in filenames:\n",
    "        print(os.path.join(dirname, filename))\n",
    "\n",
    "# You can write up to 20GB to the current directory (/kaggle/working/) that gets preserved as output when you create a version using \"Save & Run All\" \n",
    "# You can also write temporary files to /kaggle/temp/, but they won't be saved outside of the current session"
   ]
  },
  {
   "cell_type": "markdown",
   "id": "094dea3b",
   "metadata": {
    "papermill": {
     "duration": 0.004765,
     "end_time": "2023-02-12T08:09:29.389898",
     "exception": false,
     "start_time": "2023-02-12T08:09:29.385133",
     "status": "completed"
    },
    "tags": []
   },
   "source": [
    "import required libraries"
   ]
  },
  {
   "cell_type": "code",
   "execution_count": 2,
   "id": "1472be34",
   "metadata": {
    "execution": {
     "iopub.execute_input": "2023-02-12T08:09:29.401876Z",
     "iopub.status.busy": "2023-02-12T08:09:29.401481Z",
     "iopub.status.idle": "2023-02-12T08:09:35.976761Z",
     "shell.execute_reply": "2023-02-12T08:09:35.975146Z"
    },
    "papermill": {
     "duration": 6.584603,
     "end_time": "2023-02-12T08:09:35.979594",
     "exception": false,
     "start_time": "2023-02-12T08:09:29.394991",
     "status": "completed"
    },
    "tags": []
   },
   "outputs": [],
   "source": [
    "import pandas as pd\n",
    "import numpy as np\n",
    "import tensorflow\n",
    "from tensorflow import keras\n",
    "from tensorflow.keras import Sequential\n",
    "from tensorflow.keras.layers import Dense,Flatten,Dropout\n",
    "from tensorflow.keras.optimizers import Adam,RMSprop\n",
    "from keras.callbacks import EarlyStopping\n",
    "from tensorflow.keras.layers import BatchNormalization\n",
    "\n",
    "import warnings\n",
    "warnings.filterwarnings('ignore')"
   ]
  },
  {
   "cell_type": "markdown",
   "id": "271ceb03",
   "metadata": {
    "papermill": {
     "duration": 0.004884,
     "end_time": "2023-02-12T08:09:35.989854",
     "exception": false,
     "start_time": "2023-02-12T08:09:35.984970",
     "status": "completed"
    },
    "tags": []
   },
   "source": [
    "import dataset"
   ]
  },
  {
   "cell_type": "code",
   "execution_count": 3,
   "id": "219d6e36",
   "metadata": {
    "execution": {
     "iopub.execute_input": "2023-02-12T08:09:36.003077Z",
     "iopub.status.busy": "2023-02-12T08:09:36.002388Z",
     "iopub.status.idle": "2023-02-12T08:09:40.419923Z",
     "shell.execute_reply": "2023-02-12T08:09:40.418277Z"
    },
    "papermill": {
     "duration": 4.427917,
     "end_time": "2023-02-12T08:09:40.422988",
     "exception": false,
     "start_time": "2023-02-12T08:09:35.995071",
     "status": "completed"
    },
    "tags": []
   },
   "outputs": [],
   "source": [
    "train_df = pd.read_csv('/kaggle/input/digit-recognizer/train.csv')\n",
    "test_df = pd.read_csv('/kaggle/input/digit-recognizer/test.csv')"
   ]
  },
  {
   "cell_type": "markdown",
   "id": "03d99e2b",
   "metadata": {
    "papermill": {
     "duration": 0.0048,
     "end_time": "2023-02-12T08:09:40.433053",
     "exception": false,
     "start_time": "2023-02-12T08:09:40.428253",
     "status": "completed"
    },
    "tags": []
   },
   "source": [
    "setting x as our independent variables and y as our dependent variable"
   ]
  },
  {
   "cell_type": "code",
   "execution_count": 4,
   "id": "9753e3ba",
   "metadata": {
    "execution": {
     "iopub.execute_input": "2023-02-12T08:09:40.444907Z",
     "iopub.status.busy": "2023-02-12T08:09:40.444555Z",
     "iopub.status.idle": "2023-02-12T08:09:40.512065Z",
     "shell.execute_reply": "2023-02-12T08:09:40.510945Z"
    },
    "papermill": {
     "duration": 0.076982,
     "end_time": "2023-02-12T08:09:40.515171",
     "exception": false,
     "start_time": "2023-02-12T08:09:40.438189",
     "status": "completed"
    },
    "tags": []
   },
   "outputs": [],
   "source": [
    "x = train_df.drop(['label'],axis=1)\n",
    "y = train_df['label']"
   ]
  },
  {
   "cell_type": "markdown",
   "id": "ca9179ae",
   "metadata": {
    "papermill": {
     "duration": 0.004909,
     "end_time": "2023-02-12T08:09:40.525391",
     "exception": false,
     "start_time": "2023-02-12T08:09:40.520482",
     "status": "completed"
    },
    "tags": []
   },
   "source": [
    "deep learning performs well on big datasets so importing same dataset of digit from mnist to merge with our current dataset"
   ]
  },
  {
   "cell_type": "code",
   "execution_count": 5,
   "id": "d02a9cff",
   "metadata": {
    "execution": {
     "iopub.execute_input": "2023-02-12T08:09:40.537352Z",
     "iopub.status.busy": "2023-02-12T08:09:40.536804Z",
     "iopub.status.idle": "2023-02-12T08:09:40.891633Z",
     "shell.execute_reply": "2023-02-12T08:09:40.890534Z"
    },
    "papermill": {
     "duration": 0.363868,
     "end_time": "2023-02-12T08:09:40.894252",
     "exception": false,
     "start_time": "2023-02-12T08:09:40.530384",
     "status": "completed"
    },
    "tags": []
   },
   "outputs": [
    {
     "name": "stdout",
     "output_type": "stream",
     "text": [
      "Downloading data from https://storage.googleapis.com/tensorflow/tf-keras-datasets/mnist.npz\n",
      "11493376/11490434 [==============================] - 0s 0us/step\n",
      "11501568/11490434 [==============================] - 0s 0us/step\n"
     ]
    }
   ],
   "source": [
    "from keras.datasets import mnist\n",
    "(x_train,y_train),(x_test,y_test)=mnist.load_data()"
   ]
  },
  {
   "cell_type": "markdown",
   "id": "1f8ee07f",
   "metadata": {
    "papermill": {
     "duration": 0.004934,
     "end_time": "2023-02-12T08:09:40.904796",
     "exception": false,
     "start_time": "2023-02-12T08:09:40.899862",
     "status": "completed"
    },
    "tags": []
   },
   "source": [
    "In ANN 1D array is used. so reshaping (1,28,28) to (1,784) "
   ]
  },
  {
   "cell_type": "code",
   "execution_count": 6,
   "id": "9adcc3f3",
   "metadata": {
    "execution": {
     "iopub.execute_input": "2023-02-12T08:09:40.917285Z",
     "iopub.status.busy": "2023-02-12T08:09:40.916879Z",
     "iopub.status.idle": "2023-02-12T08:09:40.930680Z",
     "shell.execute_reply": "2023-02-12T08:09:40.929143Z"
    },
    "papermill": {
     "duration": 0.023208,
     "end_time": "2023-02-12T08:09:40.933395",
     "exception": false,
     "start_time": "2023-02-12T08:09:40.910187",
     "status": "completed"
    },
    "tags": []
   },
   "outputs": [],
   "source": [
    "x_train1=np.concatenate([x_train,x_test],axis=0)\n",
    "y_train1=np.concatenate([y_train,y_test],axis=0)\n",
    "x_train2 = x_train1.reshape(-1,28*28)\n",
    "y_train2= y_train1"
   ]
  },
  {
   "cell_type": "code",
   "execution_count": 7,
   "id": "4a90f8e4",
   "metadata": {
    "execution": {
     "iopub.execute_input": "2023-02-12T08:09:40.945406Z",
     "iopub.status.busy": "2023-02-12T08:09:40.945049Z",
     "iopub.status.idle": "2023-02-12T08:09:40.952078Z",
     "shell.execute_reply": "2023-02-12T08:09:40.950360Z"
    },
    "papermill": {
     "duration": 0.015537,
     "end_time": "2023-02-12T08:09:40.954294",
     "exception": false,
     "start_time": "2023-02-12T08:09:40.938757",
     "status": "completed"
    },
    "tags": []
   },
   "outputs": [],
   "source": [
    "x_train3=pd.DataFrame(x_train2,columns=[i for i in x.columns])"
   ]
  },
  {
   "cell_type": "markdown",
   "id": "addab9fe",
   "metadata": {
    "papermill": {
     "duration": 0.004964,
     "end_time": "2023-02-12T08:09:40.964674",
     "exception": false,
     "start_time": "2023-02-12T08:09:40.959710",
     "status": "completed"
    },
    "tags": []
   },
   "source": [
    "concatenating two datasets"
   ]
  },
  {
   "cell_type": "code",
   "execution_count": 8,
   "id": "9af97131",
   "metadata": {
    "execution": {
     "iopub.execute_input": "2023-02-12T08:09:40.977964Z",
     "iopub.status.busy": "2023-02-12T08:09:40.977540Z",
     "iopub.status.idle": "2023-02-12T08:09:41.210164Z",
     "shell.execute_reply": "2023-02-12T08:09:41.209043Z"
    },
    "papermill": {
     "duration": 0.243043,
     "end_time": "2023-02-12T08:09:41.213663",
     "exception": false,
     "start_time": "2023-02-12T08:09:40.970620",
     "status": "completed"
    },
    "tags": []
   },
   "outputs": [],
   "source": [
    "x1 = pd.concat([x,x_train3],axis=0,ignore_index=True)\n",
    "y1 = pd.concat([y,pd.DataFrame(y_train2)],axis=0,ignore_index=True)"
   ]
  },
  {
   "cell_type": "markdown",
   "id": "f5349357",
   "metadata": {
    "papermill": {
     "duration": 0.005685,
     "end_time": "2023-02-12T08:09:41.225146",
     "exception": false,
     "start_time": "2023-02-12T08:09:41.219461",
     "status": "completed"
    },
    "tags": []
   },
   "source": [
    "Scaling the values of independent variables(x)"
   ]
  },
  {
   "cell_type": "code",
   "execution_count": 9,
   "id": "310d845b",
   "metadata": {
    "execution": {
     "iopub.execute_input": "2023-02-12T08:09:41.241377Z",
     "iopub.status.busy": "2023-02-12T08:09:41.240958Z",
     "iopub.status.idle": "2023-02-12T08:09:41.384227Z",
     "shell.execute_reply": "2023-02-12T08:09:41.382252Z"
    },
    "papermill": {
     "duration": 0.155041,
     "end_time": "2023-02-12T08:09:41.386955",
     "exception": false,
     "start_time": "2023-02-12T08:09:41.231914",
     "status": "completed"
    },
    "tags": []
   },
   "outputs": [],
   "source": [
    "x1 = x1/255"
   ]
  },
  {
   "cell_type": "markdown",
   "id": "ed59a41c",
   "metadata": {
    "papermill": {
     "duration": 0.005707,
     "end_time": "2023-02-12T08:09:41.398659",
     "exception": false,
     "start_time": "2023-02-12T08:09:41.392952",
     "status": "completed"
    },
    "tags": []
   },
   "source": [
    "model implementation"
   ]
  },
  {
   "cell_type": "code",
   "execution_count": 10,
   "id": "6666eb4b",
   "metadata": {
    "execution": {
     "iopub.execute_input": "2023-02-12T08:09:41.414855Z",
     "iopub.status.busy": "2023-02-12T08:09:41.413919Z",
     "iopub.status.idle": "2023-02-12T08:09:41.480302Z",
     "shell.execute_reply": "2023-02-12T08:09:41.478915Z"
    },
    "papermill": {
     "duration": 0.076125,
     "end_time": "2023-02-12T08:09:41.482351",
     "exception": false,
     "start_time": "2023-02-12T08:09:41.406226",
     "status": "completed"
    },
    "tags": []
   },
   "outputs": [
    {
     "name": "stderr",
     "output_type": "stream",
     "text": [
      "2023-02-12 08:09:41.454430: I tensorflow/core/common_runtime/process_util.cc:146] Creating new thread pool with default inter op setting: 2. Tune using inter_op_parallelism_threads for best performance.\n"
     ]
    }
   ],
   "source": [
    "model = Sequential()"
   ]
  },
  {
   "cell_type": "code",
   "execution_count": 11,
   "id": "19447b0d",
   "metadata": {
    "execution": {
     "iopub.execute_input": "2023-02-12T08:09:41.495814Z",
     "iopub.status.busy": "2023-02-12T08:09:41.494363Z",
     "iopub.status.idle": "2023-02-12T08:09:41.813480Z",
     "shell.execute_reply": "2023-02-12T08:09:41.812073Z"
    },
    "papermill": {
     "duration": 0.328039,
     "end_time": "2023-02-12T08:09:41.816061",
     "exception": false,
     "start_time": "2023-02-12T08:09:41.488022",
     "status": "completed"
    },
    "tags": []
   },
   "outputs": [],
   "source": [
    "# input layer\n",
    "# using elu because relu gives a dying relu problem\n",
    "# using regularizer to reduce complexity of the layer\n",
    "model.add(Dense(128,activation='elu',input_dim = 784,kernel_regularizer=tensorflow.keras.regularizers.L2(0.001),kernel_initializer='he_normal' ))\n",
    "model.add(BatchNormalization())\n",
    "model.add(Dropout(0.1))\n",
    "\n",
    "# hidden layer\n",
    "model.add(Dense(64,activation='elu',kernel_regularizer=tensorflow.keras.regularizers.L2(0.001),kernel_initializer='he_normal'))\n",
    "# using BatchNormalization() to normalize the output of this layer\n",
    "model.add(BatchNormalization())\n",
    "model.add(Dropout(0.1))\n",
    "\n",
    "# hidden layer\n",
    "model.add(Dense(32,activation='elu',kernel_regularizer=tensorflow.keras.regularizers.L2(0.001),kernel_initializer='he_normal'))\n",
    "model.add(BatchNormalization())\n",
    "# using Dropout to randomly drop 10% neurons in this layer\n",
    "model.add(Dropout(0.2))\n",
    "\n",
    "# hidden layer\n",
    "model.add(Dense(16,activation='elu',kernel_regularizer=tensorflow.keras.regularizers.L2(0.001),kernel_initializer='he_normal'))\n",
    "model.add(BatchNormalization())\n",
    "model.add(Dropout(0.25))\n",
    "\n",
    "# output layer\n",
    "model.add(Dense(10,activation='softmax'))"
   ]
  },
  {
   "cell_type": "code",
   "execution_count": 12,
   "id": "589c2f15",
   "metadata": {
    "execution": {
     "iopub.execute_input": "2023-02-12T08:09:41.828464Z",
     "iopub.status.busy": "2023-02-12T08:09:41.828097Z",
     "iopub.status.idle": "2023-02-12T08:09:41.842458Z",
     "shell.execute_reply": "2023-02-12T08:09:41.841265Z"
    },
    "papermill": {
     "duration": 0.023692,
     "end_time": "2023-02-12T08:09:41.845153",
     "exception": false,
     "start_time": "2023-02-12T08:09:41.821461",
     "status": "completed"
    },
    "tags": []
   },
   "outputs": [],
   "source": [
    "model.compile(optimizer='RMSprop',loss='sparse_categorical_crossentropy',metrics=['accuracy'],)"
   ]
  },
  {
   "cell_type": "code",
   "execution_count": 13,
   "id": "d85ff365",
   "metadata": {
    "execution": {
     "iopub.execute_input": "2023-02-12T08:09:41.857441Z",
     "iopub.status.busy": "2023-02-12T08:09:41.857040Z",
     "iopub.status.idle": "2023-02-12T08:12:27.259846Z",
     "shell.execute_reply": "2023-02-12T08:12:27.258268Z"
    },
    "papermill": {
     "duration": 165.412209,
     "end_time": "2023-02-12T08:12:27.262691",
     "exception": false,
     "start_time": "2023-02-12T08:09:41.850482",
     "status": "completed"
    },
    "tags": []
   },
   "outputs": [
    {
     "name": "stderr",
     "output_type": "stream",
     "text": [
      "2023-02-12 08:09:42.439749: I tensorflow/compiler/mlir/mlir_graph_optimization_pass.cc:185] None of the MLIR Optimization Passes are enabled (registered 2)\n"
     ]
    },
    {
     "name": "stdout",
     "output_type": "stream",
     "text": [
      "Epoch 1/1000\n",
      "350/350 [==============================] - 5s 10ms/step - loss: 0.8751 - accuracy: 0.8482 - val_loss: 0.4586 - val_accuracy: 0.9388\n",
      "Epoch 2/1000\n",
      "350/350 [==============================] - 3s 10ms/step - loss: 0.4840 - accuracy: 0.9267 - val_loss: 0.3229 - val_accuracy: 0.9609\n",
      "Epoch 3/1000\n",
      "350/350 [==============================] - 3s 10ms/step - loss: 0.3781 - accuracy: 0.9421 - val_loss: 0.2635 - val_accuracy: 0.9687\n",
      "Epoch 4/1000\n",
      "350/350 [==============================] - 3s 9ms/step - loss: 0.3292 - accuracy: 0.9489 - val_loss: 0.2312 - val_accuracy: 0.9717\n",
      "Epoch 5/1000\n",
      "350/350 [==============================] - 3s 10ms/step - loss: 0.2958 - accuracy: 0.9525 - val_loss: 0.2090 - val_accuracy: 0.9742\n",
      "Epoch 6/1000\n",
      "350/350 [==============================] - 4s 10ms/step - loss: 0.2702 - accuracy: 0.9560 - val_loss: 0.2058 - val_accuracy: 0.9719\n",
      "Epoch 7/1000\n",
      "350/350 [==============================] - 4s 11ms/step - loss: 0.2533 - accuracy: 0.9581 - val_loss: 0.1827 - val_accuracy: 0.9768\n",
      "Epoch 8/1000\n",
      "350/350 [==============================] - 3s 10ms/step - loss: 0.2394 - accuracy: 0.9597 - val_loss: 0.1834 - val_accuracy: 0.9732\n",
      "Epoch 9/1000\n",
      "350/350 [==============================] - 3s 10ms/step - loss: 0.2351 - accuracy: 0.9593 - val_loss: 0.1731 - val_accuracy: 0.9744\n",
      "Epoch 10/1000\n",
      "350/350 [==============================] - 3s 9ms/step - loss: 0.2257 - accuracy: 0.9612 - val_loss: 0.1656 - val_accuracy: 0.9775\n",
      "Epoch 11/1000\n",
      "350/350 [==============================] - 3s 9ms/step - loss: 0.2177 - accuracy: 0.9622 - val_loss: 0.1682 - val_accuracy: 0.9748\n",
      "Epoch 12/1000\n",
      "350/350 [==============================] - 3s 9ms/step - loss: 0.2136 - accuracy: 0.9632 - val_loss: 0.1597 - val_accuracy: 0.9786\n",
      "Epoch 13/1000\n",
      "350/350 [==============================] - 3s 9ms/step - loss: 0.2063 - accuracy: 0.9644 - val_loss: 0.1557 - val_accuracy: 0.9774\n",
      "Epoch 14/1000\n",
      "350/350 [==============================] - 3s 9ms/step - loss: 0.2064 - accuracy: 0.9638 - val_loss: 0.1551 - val_accuracy: 0.9771\n",
      "Epoch 15/1000\n",
      "350/350 [==============================] - 3s 9ms/step - loss: 0.2023 - accuracy: 0.9642 - val_loss: 0.1573 - val_accuracy: 0.9776\n",
      "Epoch 16/1000\n",
      "350/350 [==============================] - 4s 10ms/step - loss: 0.1980 - accuracy: 0.9661 - val_loss: 0.1528 - val_accuracy: 0.9779\n",
      "Epoch 17/1000\n",
      "350/350 [==============================] - 3s 9ms/step - loss: 0.1997 - accuracy: 0.9652 - val_loss: 0.1503 - val_accuracy: 0.9779\n",
      "Epoch 18/1000\n",
      "350/350 [==============================] - 3s 9ms/step - loss: 0.1945 - accuracy: 0.9665 - val_loss: 0.1537 - val_accuracy: 0.9784\n",
      "Epoch 19/1000\n",
      "350/350 [==============================] - 3s 9ms/step - loss: 0.1902 - accuracy: 0.9676 - val_loss: 0.1504 - val_accuracy: 0.9789\n",
      "Epoch 20/1000\n",
      "350/350 [==============================] - 3s 9ms/step - loss: 0.1909 - accuracy: 0.9673 - val_loss: 0.1499 - val_accuracy: 0.9784\n",
      "Epoch 21/1000\n",
      "350/350 [==============================] - 3s 9ms/step - loss: 0.1902 - accuracy: 0.9664 - val_loss: 0.1529 - val_accuracy: 0.9760\n",
      "Epoch 22/1000\n",
      "350/350 [==============================] - 3s 9ms/step - loss: 0.1884 - accuracy: 0.9670 - val_loss: 0.1503 - val_accuracy: 0.9781\n",
      "Epoch 23/1000\n",
      "350/350 [==============================] - 3s 9ms/step - loss: 0.1907 - accuracy: 0.9672 - val_loss: 0.1414 - val_accuracy: 0.9795\n",
      "Epoch 24/1000\n",
      "350/350 [==============================] - 3s 9ms/step - loss: 0.1890 - accuracy: 0.9671 - val_loss: 0.1784 - val_accuracy: 0.9685\n",
      "Epoch 25/1000\n",
      "350/350 [==============================] - 3s 9ms/step - loss: 0.1888 - accuracy: 0.9674 - val_loss: 0.1631 - val_accuracy: 0.9741\n",
      "Epoch 26/1000\n",
      "350/350 [==============================] - 4s 10ms/step - loss: 0.1826 - accuracy: 0.9690 - val_loss: 0.1454 - val_accuracy: 0.9785\n",
      "Epoch 27/1000\n",
      "350/350 [==============================] - 3s 9ms/step - loss: 0.1841 - accuracy: 0.9679 - val_loss: 0.1392 - val_accuracy: 0.9805\n",
      "Epoch 28/1000\n",
      "350/350 [==============================] - 3s 9ms/step - loss: 0.1834 - accuracy: 0.9685 - val_loss: 0.1474 - val_accuracy: 0.9794\n",
      "Epoch 29/1000\n",
      "350/350 [==============================] - 3s 9ms/step - loss: 0.1829 - accuracy: 0.9684 - val_loss: 0.1411 - val_accuracy: 0.9802\n",
      "Epoch 30/1000\n",
      "350/350 [==============================] - 3s 10ms/step - loss: 0.1816 - accuracy: 0.9691 - val_loss: 0.1490 - val_accuracy: 0.9778\n",
      "Epoch 31/1000\n",
      "350/350 [==============================] - 3s 9ms/step - loss: 0.1815 - accuracy: 0.9689 - val_loss: 0.1383 - val_accuracy: 0.9805\n",
      "Epoch 32/1000\n",
      "350/350 [==============================] - 3s 9ms/step - loss: 0.1796 - accuracy: 0.9689 - val_loss: 0.1435 - val_accuracy: 0.9794\n",
      "Epoch 33/1000\n",
      "350/350 [==============================] - 3s 9ms/step - loss: 0.1794 - accuracy: 0.9690 - val_loss: 0.1389 - val_accuracy: 0.9803\n",
      "Epoch 34/1000\n",
      "350/350 [==============================] - 3s 9ms/step - loss: 0.1790 - accuracy: 0.9693 - val_loss: 0.1353 - val_accuracy: 0.9817\n",
      "Epoch 35/1000\n",
      "350/350 [==============================] - 4s 10ms/step - loss: 0.1783 - accuracy: 0.9691 - val_loss: 0.1382 - val_accuracy: 0.9803\n",
      "Epoch 36/1000\n",
      "350/350 [==============================] - 3s 9ms/step - loss: 0.1784 - accuracy: 0.9689 - val_loss: 0.1404 - val_accuracy: 0.9797\n",
      "Epoch 37/1000\n",
      "350/350 [==============================] - 3s 9ms/step - loss: 0.1779 - accuracy: 0.9699 - val_loss: 0.1405 - val_accuracy: 0.9810\n",
      "Epoch 38/1000\n",
      "350/350 [==============================] - 3s 9ms/step - loss: 0.1773 - accuracy: 0.9700 - val_loss: 0.1333 - val_accuracy: 0.9820\n",
      "Epoch 39/1000\n",
      "350/350 [==============================] - 3s 9ms/step - loss: 0.1784 - accuracy: 0.9690 - val_loss: 0.1293 - val_accuracy: 0.9826\n",
      "Epoch 40/1000\n",
      "350/350 [==============================] - 3s 9ms/step - loss: 0.1746 - accuracy: 0.9710 - val_loss: 0.1376 - val_accuracy: 0.9803\n",
      "Epoch 41/1000\n",
      "350/350 [==============================] - 3s 9ms/step - loss: 0.1738 - accuracy: 0.9707 - val_loss: 0.1397 - val_accuracy: 0.9808\n",
      "Epoch 42/1000\n",
      "350/350 [==============================] - 3s 9ms/step - loss: 0.1734 - accuracy: 0.9707 - val_loss: 0.1552 - val_accuracy: 0.9750\n",
      "Epoch 43/1000\n",
      "350/350 [==============================] - 3s 9ms/step - loss: 0.1769 - accuracy: 0.9697 - val_loss: 0.1389 - val_accuracy: 0.9795\n",
      "Epoch 44/1000\n",
      "350/350 [==============================] - 3s 9ms/step - loss: 0.1722 - accuracy: 0.9712 - val_loss: 0.1386 - val_accuracy: 0.9801\n",
      "Epoch 45/1000\n",
      "350/350 [==============================] - 4s 11ms/step - loss: 0.1758 - accuracy: 0.9706 - val_loss: 0.1411 - val_accuracy: 0.9788\n",
      "Epoch 46/1000\n",
      "350/350 [==============================] - 3s 10ms/step - loss: 0.1724 - accuracy: 0.9707 - val_loss: 0.1353 - val_accuracy: 0.9814\n",
      "Epoch 47/1000\n",
      "350/350 [==============================] - 3s 9ms/step - loss: 0.1716 - accuracy: 0.9704 - val_loss: 0.1350 - val_accuracy: 0.9802\n",
      "Epoch 48/1000\n",
      "350/350 [==============================] - 3s 9ms/step - loss: 0.1729 - accuracy: 0.9706 - val_loss: 0.1381 - val_accuracy: 0.9803\n",
      "Epoch 49/1000\n",
      "350/350 [==============================] - 3s 10ms/step - loss: 0.1725 - accuracy: 0.9705 - val_loss: 0.1452 - val_accuracy: 0.9787\n"
     ]
    },
    {
     "data": {
      "text/plain": [
       "<keras.callbacks.History at 0x7fdf7a224f10>"
      ]
     },
     "execution_count": 13,
     "metadata": {},
     "output_type": "execute_result"
    }
   ],
   "source": [
    "# using callback to stop epoch when overfitting tends to start\n",
    "# using batch_size to divide set of rows into batches, where each batch contains 256 rows\n",
    "callback = EarlyStopping(monitor='val_accuracy',min_delta= 0.001,patience=15,verbose=0,mode='auto',baseline=None,restore_best_weights=True)\n",
    "model.fit(x1,y1,epochs=1000,batch_size=256,callbacks=callback,validation_split=0.2)"
   ]
  },
  {
   "cell_type": "code",
   "execution_count": 14,
   "id": "8ed3e9b8",
   "metadata": {
    "execution": {
     "iopub.execute_input": "2023-02-12T08:12:27.578325Z",
     "iopub.status.busy": "2023-02-12T08:12:27.577714Z",
     "iopub.status.idle": "2023-02-12T08:12:29.720007Z",
     "shell.execute_reply": "2023-02-12T08:12:29.719285Z"
    },
    "papermill": {
     "duration": 2.300466,
     "end_time": "2023-02-12T08:12:29.722414",
     "exception": false,
     "start_time": "2023-02-12T08:12:27.421948",
     "status": "completed"
    },
    "tags": []
   },
   "outputs": [],
   "source": [
    "# predict results\n",
    "test_df = test_df/255\n",
    "results = model.predict(test_df)\n",
    "\n",
    "# select the indix with the maximum probability\n",
    "results = np.argmax(results,axis = 1)\n",
    "\n",
    "results = pd.Series(results,name=\"Label\")"
   ]
  },
  {
   "cell_type": "code",
   "execution_count": 15,
   "id": "599e1a81",
   "metadata": {
    "execution": {
     "iopub.execute_input": "2023-02-12T08:12:30.091688Z",
     "iopub.status.busy": "2023-02-12T08:12:30.091068Z",
     "iopub.status.idle": "2023-02-12T08:12:30.122344Z",
     "shell.execute_reply": "2023-02-12T08:12:30.121656Z"
    },
    "papermill": {
     "duration": 0.249856,
     "end_time": "2023-02-12T08:12:30.124717",
     "exception": false,
     "start_time": "2023-02-12T08:12:29.874861",
     "status": "completed"
    },
    "tags": []
   },
   "outputs": [],
   "source": [
    "submission = pd.concat([pd.Series(range(1,28001),name = \"ImageId\"),results],axis = 1)\n",
    "submission.to_csv(\"sample_submission.csv\",index=False)"
   ]
  },
  {
   "cell_type": "code",
   "execution_count": null,
   "id": "e27b307a",
   "metadata": {
    "papermill": {
     "duration": 0.152608,
     "end_time": "2023-02-12T08:12:30.430676",
     "exception": false,
     "start_time": "2023-02-12T08:12:30.278068",
     "status": "completed"
    },
    "tags": []
   },
   "outputs": [],
   "source": []
  }
 ],
 "metadata": {
  "kernelspec": {
   "display_name": "Python 3",
   "language": "python",
   "name": "python3"
  },
  "language_info": {
   "codemirror_mode": {
    "name": "ipython",
    "version": 3
   },
   "file_extension": ".py",
   "mimetype": "text/x-python",
   "name": "python",
   "nbconvert_exporter": "python",
   "pygments_lexer": "ipython3",
   "version": "3.7.12"
  },
  "papermill": {
   "default_parameters": {},
   "duration": 192.984096,
   "end_time": "2023-02-12T08:12:33.439588",
   "environment_variables": {},
   "exception": null,
   "input_path": "__notebook__.ipynb",
   "output_path": "__notebook__.ipynb",
   "parameters": {},
   "start_time": "2023-02-12T08:09:20.455492",
   "version": "2.3.4"
  }
 },
 "nbformat": 4,
 "nbformat_minor": 5
}
