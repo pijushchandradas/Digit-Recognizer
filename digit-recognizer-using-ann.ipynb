{
 "cells": [
  {
   "cell_type": "code",
   "execution_count": 1,
   "id": "b38f3930",
   "metadata": {
    "_cell_guid": "b1076dfc-b9ad-4769-8c92-a6c4dae69d19",
    "_uuid": "8f2839f25d086af736a60e9eeb907d3b93b6e0e5",
    "execution": {
     "iopub.execute_input": "2023-02-14T18:09:26.899844Z",
     "iopub.status.busy": "2023-02-14T18:09:26.899341Z",
     "iopub.status.idle": "2023-02-14T18:09:26.913322Z",
     "shell.execute_reply": "2023-02-14T18:09:26.912399Z"
    },
    "papermill": {
     "duration": 0.026404,
     "end_time": "2023-02-14T18:09:26.916619",
     "exception": false,
     "start_time": "2023-02-14T18:09:26.890215",
     "status": "completed"
    },
    "tags": []
   },
   "outputs": [
    {
     "name": "stdout",
     "output_type": "stream",
     "text": [
      "/kaggle/input/digit-recognizer/sample_submission.csv\n",
      "/kaggle/input/digit-recognizer/train.csv\n",
      "/kaggle/input/digit-recognizer/test.csv\n"
     ]
    }
   ],
   "source": [
    "# This Python 3 environment comes with many helpful analytics libraries installed\n",
    "# It is defined by the kaggle/python Docker image: https://github.com/kaggle/docker-python\n",
    "# For example, here's several helpful packages to load\n",
    "\n",
    "import numpy as np # linear algebra\n",
    "import pandas as pd # data processing, CSV file I/O (e.g. pd.read_csv)\n",
    "\n",
    "# Input data files are available in the read-only \"../input/\" directory\n",
    "# For example, running this (by clicking run or pressing Shift+Enter) will list all files under the input directory\n",
    "\n",
    "import os\n",
    "for dirname, _, filenames in os.walk('/kaggle/input'):\n",
    "    for filename in filenames:\n",
    "        print(os.path.join(dirname, filename))\n",
    "\n",
    "# You can write up to 20GB to the current directory (/kaggle/working/) that gets preserved as output when you create a version using \"Save & Run All\" \n",
    "# You can also write temporary files to /kaggle/temp/, but they won't be saved outside of the current session"
   ]
  },
  {
   "cell_type": "markdown",
   "id": "5a3db789",
   "metadata": {
    "papermill": {
     "duration": 0.006062,
     "end_time": "2023-02-14T18:09:26.929690",
     "exception": false,
     "start_time": "2023-02-14T18:09:26.923628",
     "status": "completed"
    },
    "tags": []
   },
   "source": [
    "import required libraries"
   ]
  },
  {
   "cell_type": "code",
   "execution_count": 2,
   "id": "694b5366",
   "metadata": {
    "execution": {
     "iopub.execute_input": "2023-02-14T18:09:26.943319Z",
     "iopub.status.busy": "2023-02-14T18:09:26.943036Z",
     "iopub.status.idle": "2023-02-14T18:09:38.181995Z",
     "shell.execute_reply": "2023-02-14T18:09:38.180972Z"
    },
    "papermill": {
     "duration": 11.248451,
     "end_time": "2023-02-14T18:09:38.184400",
     "exception": false,
     "start_time": "2023-02-14T18:09:26.935949",
     "status": "completed"
    },
    "tags": []
   },
   "outputs": [],
   "source": [
    "import pandas as pd\n",
    "import numpy as np\n",
    "import tensorflow\n",
    "from tensorflow import keras\n",
    "from tensorflow.keras import Sequential\n",
    "from tensorflow.keras.layers import Dense, Conv2D, Flatten, MaxPool2D, Dropout,BatchNormalization\n",
    "from tensorflow.keras.optimizers import Adam,RMSprop\n",
    "from keras.callbacks import EarlyStopping\n",
    "from tensorflow.keras.layers import BatchNormalization\n",
    "from keras.utils.np_utils import to_categorical\n",
    "from keras.preprocessing.image import ImageDataGenerator\n",
    "from keras.callbacks import ReduceLROnPlateau\n",
    "from sklearn.model_selection import train_test_split\n",
    "import matplotlib.pyplot as plt\n",
    "%matplotlib inline\n",
    "\n",
    "import warnings\n",
    "warnings.filterwarnings('ignore')"
   ]
  },
  {
   "cell_type": "markdown",
   "id": "7d721dd2",
   "metadata": {
    "papermill": {
     "duration": 0.00601,
     "end_time": "2023-02-14T18:09:38.197607",
     "exception": false,
     "start_time": "2023-02-14T18:09:38.191597",
     "status": "completed"
    },
    "tags": []
   },
   "source": [
    "import dataset"
   ]
  },
  {
   "cell_type": "code",
   "execution_count": 3,
   "id": "a150e603",
   "metadata": {
    "execution": {
     "iopub.execute_input": "2023-02-14T18:09:38.212892Z",
     "iopub.status.busy": "2023-02-14T18:09:38.211805Z",
     "iopub.status.idle": "2023-02-14T18:09:43.923494Z",
     "shell.execute_reply": "2023-02-14T18:09:43.922458Z"
    },
    "papermill": {
     "duration": 5.722005,
     "end_time": "2023-02-14T18:09:43.926258",
     "exception": false,
     "start_time": "2023-02-14T18:09:38.204253",
     "status": "completed"
    },
    "tags": []
   },
   "outputs": [],
   "source": [
    "train_df = pd.read_csv('/kaggle/input/digit-recognizer/train.csv')\n",
    "test_df = pd.read_csv('/kaggle/input/digit-recognizer/test.csv')"
   ]
  },
  {
   "cell_type": "code",
   "execution_count": 4,
   "id": "bc7d73cf",
   "metadata": {
    "execution": {
     "iopub.execute_input": "2023-02-14T18:09:43.944374Z",
     "iopub.status.busy": "2023-02-14T18:09:43.942809Z",
     "iopub.status.idle": "2023-02-14T18:09:43.970538Z",
     "shell.execute_reply": "2023-02-14T18:09:43.969557Z"
    },
    "papermill": {
     "duration": 0.03848,
     "end_time": "2023-02-14T18:09:43.973407",
     "exception": false,
     "start_time": "2023-02-14T18:09:43.934927",
     "status": "completed"
    },
    "tags": []
   },
   "outputs": [
    {
     "data": {
      "text/html": [
       "<div>\n",
       "<style scoped>\n",
       "    .dataframe tbody tr th:only-of-type {\n",
       "        vertical-align: middle;\n",
       "    }\n",
       "\n",
       "    .dataframe tbody tr th {\n",
       "        vertical-align: top;\n",
       "    }\n",
       "\n",
       "    .dataframe thead th {\n",
       "        text-align: right;\n",
       "    }\n",
       "</style>\n",
       "<table border=\"1\" class=\"dataframe\">\n",
       "  <thead>\n",
       "    <tr style=\"text-align: right;\">\n",
       "      <th></th>\n",
       "      <th>label</th>\n",
       "      <th>pixel0</th>\n",
       "      <th>pixel1</th>\n",
       "      <th>pixel2</th>\n",
       "      <th>pixel3</th>\n",
       "      <th>pixel4</th>\n",
       "      <th>pixel5</th>\n",
       "      <th>pixel6</th>\n",
       "      <th>pixel7</th>\n",
       "      <th>pixel8</th>\n",
       "      <th>...</th>\n",
       "      <th>pixel774</th>\n",
       "      <th>pixel775</th>\n",
       "      <th>pixel776</th>\n",
       "      <th>pixel777</th>\n",
       "      <th>pixel778</th>\n",
       "      <th>pixel779</th>\n",
       "      <th>pixel780</th>\n",
       "      <th>pixel781</th>\n",
       "      <th>pixel782</th>\n",
       "      <th>pixel783</th>\n",
       "    </tr>\n",
       "  </thead>\n",
       "  <tbody>\n",
       "    <tr>\n",
       "      <th>0</th>\n",
       "      <td>1</td>\n",
       "      <td>0</td>\n",
       "      <td>0</td>\n",
       "      <td>0</td>\n",
       "      <td>0</td>\n",
       "      <td>0</td>\n",
       "      <td>0</td>\n",
       "      <td>0</td>\n",
       "      <td>0</td>\n",
       "      <td>0</td>\n",
       "      <td>...</td>\n",
       "      <td>0</td>\n",
       "      <td>0</td>\n",
       "      <td>0</td>\n",
       "      <td>0</td>\n",
       "      <td>0</td>\n",
       "      <td>0</td>\n",
       "      <td>0</td>\n",
       "      <td>0</td>\n",
       "      <td>0</td>\n",
       "      <td>0</td>\n",
       "    </tr>\n",
       "    <tr>\n",
       "      <th>1</th>\n",
       "      <td>0</td>\n",
       "      <td>0</td>\n",
       "      <td>0</td>\n",
       "      <td>0</td>\n",
       "      <td>0</td>\n",
       "      <td>0</td>\n",
       "      <td>0</td>\n",
       "      <td>0</td>\n",
       "      <td>0</td>\n",
       "      <td>0</td>\n",
       "      <td>...</td>\n",
       "      <td>0</td>\n",
       "      <td>0</td>\n",
       "      <td>0</td>\n",
       "      <td>0</td>\n",
       "      <td>0</td>\n",
       "      <td>0</td>\n",
       "      <td>0</td>\n",
       "      <td>0</td>\n",
       "      <td>0</td>\n",
       "      <td>0</td>\n",
       "    </tr>\n",
       "    <tr>\n",
       "      <th>2</th>\n",
       "      <td>1</td>\n",
       "      <td>0</td>\n",
       "      <td>0</td>\n",
       "      <td>0</td>\n",
       "      <td>0</td>\n",
       "      <td>0</td>\n",
       "      <td>0</td>\n",
       "      <td>0</td>\n",
       "      <td>0</td>\n",
       "      <td>0</td>\n",
       "      <td>...</td>\n",
       "      <td>0</td>\n",
       "      <td>0</td>\n",
       "      <td>0</td>\n",
       "      <td>0</td>\n",
       "      <td>0</td>\n",
       "      <td>0</td>\n",
       "      <td>0</td>\n",
       "      <td>0</td>\n",
       "      <td>0</td>\n",
       "      <td>0</td>\n",
       "    </tr>\n",
       "    <tr>\n",
       "      <th>3</th>\n",
       "      <td>4</td>\n",
       "      <td>0</td>\n",
       "      <td>0</td>\n",
       "      <td>0</td>\n",
       "      <td>0</td>\n",
       "      <td>0</td>\n",
       "      <td>0</td>\n",
       "      <td>0</td>\n",
       "      <td>0</td>\n",
       "      <td>0</td>\n",
       "      <td>...</td>\n",
       "      <td>0</td>\n",
       "      <td>0</td>\n",
       "      <td>0</td>\n",
       "      <td>0</td>\n",
       "      <td>0</td>\n",
       "      <td>0</td>\n",
       "      <td>0</td>\n",
       "      <td>0</td>\n",
       "      <td>0</td>\n",
       "      <td>0</td>\n",
       "    </tr>\n",
       "    <tr>\n",
       "      <th>4</th>\n",
       "      <td>0</td>\n",
       "      <td>0</td>\n",
       "      <td>0</td>\n",
       "      <td>0</td>\n",
       "      <td>0</td>\n",
       "      <td>0</td>\n",
       "      <td>0</td>\n",
       "      <td>0</td>\n",
       "      <td>0</td>\n",
       "      <td>0</td>\n",
       "      <td>...</td>\n",
       "      <td>0</td>\n",
       "      <td>0</td>\n",
       "      <td>0</td>\n",
       "      <td>0</td>\n",
       "      <td>0</td>\n",
       "      <td>0</td>\n",
       "      <td>0</td>\n",
       "      <td>0</td>\n",
       "      <td>0</td>\n",
       "      <td>0</td>\n",
       "    </tr>\n",
       "  </tbody>\n",
       "</table>\n",
       "<p>5 rows × 785 columns</p>\n",
       "</div>"
      ],
      "text/plain": [
       "   label  pixel0  pixel1  pixel2  pixel3  pixel4  pixel5  pixel6  pixel7  \\\n",
       "0      1       0       0       0       0       0       0       0       0   \n",
       "1      0       0       0       0       0       0       0       0       0   \n",
       "2      1       0       0       0       0       0       0       0       0   \n",
       "3      4       0       0       0       0       0       0       0       0   \n",
       "4      0       0       0       0       0       0       0       0       0   \n",
       "\n",
       "   pixel8  ...  pixel774  pixel775  pixel776  pixel777  pixel778  pixel779  \\\n",
       "0       0  ...         0         0         0         0         0         0   \n",
       "1       0  ...         0         0         0         0         0         0   \n",
       "2       0  ...         0         0         0         0         0         0   \n",
       "3       0  ...         0         0         0         0         0         0   \n",
       "4       0  ...         0         0         0         0         0         0   \n",
       "\n",
       "   pixel780  pixel781  pixel782  pixel783  \n",
       "0         0         0         0         0  \n",
       "1         0         0         0         0  \n",
       "2         0         0         0         0  \n",
       "3         0         0         0         0  \n",
       "4         0         0         0         0  \n",
       "\n",
       "[5 rows x 785 columns]"
      ]
     },
     "execution_count": 4,
     "metadata": {},
     "output_type": "execute_result"
    }
   ],
   "source": [
    "# how the data looks like\n",
    "train_df.head()"
   ]
  },
  {
   "cell_type": "code",
   "execution_count": 5,
   "id": "f67b5e00",
   "metadata": {
    "execution": {
     "iopub.execute_input": "2023-02-14T18:09:43.989944Z",
     "iopub.status.busy": "2023-02-14T18:09:43.988370Z",
     "iopub.status.idle": "2023-02-14T18:09:44.392854Z",
     "shell.execute_reply": "2023-02-14T18:09:44.391897Z"
    },
    "papermill": {
     "duration": 0.415119,
     "end_time": "2023-02-14T18:09:44.395669",
     "exception": false,
     "start_time": "2023-02-14T18:09:43.980550",
     "status": "completed"
    },
    "tags": []
   },
   "outputs": [
    {
     "data": {
      "text/plain": [
       "Text(0.5, 1.0, 'Value is: 0')"
      ]
     },
     "execution_count": 5,
     "metadata": {},
     "output_type": "execute_result"
    },
    {
     "data": {
      "image/png": "[encoded data removed]",
      "text/plain": [
       "<Figure size 432x288 with 1 Axes>"
      ]
     },
     "metadata": {
      "needs_background": "light"
     },
     "output_type": "display_data"
    }
   ],
   "source": [
    "pixel_data=train_df.iloc[:,1:785] \n",
    "label=train_df[\"label\"]\n",
    "\n",
    "number=np.array(pixel_data)\n",
    "number=number.reshape(len(pixel_data),28,28,1)\n",
    "\n",
    "plt.imshow(number[5])\n",
    "plt.title(\"Value is: %d\" % label[5])"
   ]
  },
  {
   "cell_type": "markdown",
   "id": "5c2c7c4b",
   "metadata": {
    "papermill": {
     "duration": 0.009863,
     "end_time": "2023-02-14T18:09:44.416330",
     "exception": false,
     "start_time": "2023-02-14T18:09:44.406467",
     "status": "completed"
    },
    "tags": []
   },
   "source": [
    "setting x as our independent variables and y as our dependent variable"
   ]
  },
  {
   "cell_type": "code",
   "execution_count": 6,
   "id": "a845291f",
   "metadata": {
    "execution": {
     "iopub.execute_input": "2023-02-14T18:09:44.437912Z",
     "iopub.status.busy": "2023-02-14T18:09:44.437057Z",
     "iopub.status.idle": "2023-02-14T18:09:44.527289Z",
     "shell.execute_reply": "2023-02-14T18:09:44.526201Z"
    },
    "papermill": {
     "duration": 0.104329,
     "end_time": "2023-02-14T18:09:44.530537",
     "exception": false,
     "start_time": "2023-02-14T18:09:44.426208",
     "status": "completed"
    },
    "tags": []
   },
   "outputs": [],
   "source": [
    "x = train_df.drop(['label'],axis=1)\n",
    "y = train_df['label']"
   ]
  },
  {
   "cell_type": "markdown",
   "id": "79e7cf3d",
   "metadata": {
    "papermill": {
     "duration": 0.01078,
     "end_time": "2023-02-14T18:09:44.551918",
     "exception": false,
     "start_time": "2023-02-14T18:09:44.541138",
     "status": "completed"
    },
    "tags": []
   },
   "source": [
    "deep learning performs well on big datasets so importing same dataset of digit from mnist to merge with our current dataset"
   ]
  },
  {
   "cell_type": "code",
   "execution_count": 7,
   "id": "ca475a1b",
   "metadata": {
    "execution": {
     "iopub.execute_input": "2023-02-14T18:09:44.572975Z",
     "iopub.status.busy": "2023-02-14T18:09:44.572654Z",
     "iopub.status.idle": "2023-02-14T18:09:44.997642Z",
     "shell.execute_reply": "2023-02-14T18:09:44.996621Z"
    },
    "papermill": {
     "duration": 0.438598,
     "end_time": "2023-02-14T18:09:45.000061",
     "exception": false,
     "start_time": "2023-02-14T18:09:44.561463",
     "status": "completed"
    },
    "tags": []
   },
   "outputs": [
    {
     "name": "stdout",
     "output_type": "stream",
     "text": [
      "Downloading data from https://storage.googleapis.com/tensorflow/tf-keras-datasets/mnist.npz\n",
      "11493376/11490434 [==============================] - 0s 0us/step\n",
      "11501568/11490434 [==============================] - 0s 0us/step\n"
     ]
    }
   ],
   "source": [
    "from keras.datasets import mnist\n",
    "(x_train,y_train),(x_test,y_test)=mnist.load_data()"
   ]
  },
  {
   "cell_type": "code",
   "execution_count": 8,
   "id": "218457f8",
   "metadata": {
    "execution": {
     "iopub.execute_input": "2023-02-14T18:09:45.016362Z",
     "iopub.status.busy": "2023-02-14T18:09:45.016034Z",
     "iopub.status.idle": "2023-02-14T18:09:45.041449Z",
     "shell.execute_reply": "2023-02-14T18:09:45.040470Z"
    },
    "papermill": {
     "duration": 0.035915,
     "end_time": "2023-02-14T18:09:45.043622",
     "exception": false,
     "start_time": "2023-02-14T18:09:45.007707",
     "status": "completed"
    },
    "tags": []
   },
   "outputs": [],
   "source": [
    "x_train1=np.concatenate([x_train,x_test],axis=0)\n",
    "y_train1=np.concatenate([y_train,y_test],axis=0)\n",
    "x_train2 = x_train1.reshape(-1,28*28)\n",
    "y_train2= y_train1"
   ]
  },
  {
   "cell_type": "code",
   "execution_count": 9,
   "id": "c3909112",
   "metadata": {
    "execution": {
     "iopub.execute_input": "2023-02-14T18:09:45.059532Z",
     "iopub.status.busy": "2023-02-14T18:09:45.059245Z",
     "iopub.status.idle": "2023-02-14T18:09:45.065484Z",
     "shell.execute_reply": "2023-02-14T18:09:45.064125Z"
    },
    "papermill": {
     "duration": 0.017519,
     "end_time": "2023-02-14T18:09:45.068352",
     "exception": false,
     "start_time": "2023-02-14T18:09:45.050833",
     "status": "completed"
    },
    "tags": []
   },
   "outputs": [],
   "source": [
    "x_train3=pd.DataFrame(x_train2,columns=[i for i in x.columns])"
   ]
  },
  {
   "cell_type": "markdown",
   "id": "f7b2eed2",
   "metadata": {
    "papermill": {
     "duration": 0.007518,
     "end_time": "2023-02-14T18:09:45.082845",
     "exception": false,
     "start_time": "2023-02-14T18:09:45.075327",
     "status": "completed"
    },
    "tags": []
   },
   "source": [
    "concatenating two datasets"
   ]
  },
  {
   "cell_type": "code",
   "execution_count": 10,
   "id": "e4233e37",
   "metadata": {
    "execution": {
     "iopub.execute_input": "2023-02-14T18:09:45.106189Z",
     "iopub.status.busy": "2023-02-14T18:09:45.105737Z",
     "iopub.status.idle": "2023-02-14T18:09:45.499061Z",
     "shell.execute_reply": "2023-02-14T18:09:45.498120Z"
    },
    "papermill": {
     "duration": 0.414281,
     "end_time": "2023-02-14T18:09:45.504429",
     "exception": false,
     "start_time": "2023-02-14T18:09:45.090148",
     "status": "completed"
    },
    "tags": []
   },
   "outputs": [],
   "source": [
    "x1 = pd.concat([x,x_train3],axis=0,ignore_index=True)\n",
    "y1 = pd.concat([y,pd.DataFrame(y_train2)],axis=0,ignore_index=True)"
   ]
  },
  {
   "cell_type": "markdown",
   "id": "fdd96095",
   "metadata": {
    "papermill": {
     "duration": 0.009873,
     "end_time": "2023-02-14T18:09:45.525083",
     "exception": false,
     "start_time": "2023-02-14T18:09:45.515210",
     "status": "completed"
    },
    "tags": []
   },
   "source": [
    "Scaling the values of independent variables(x)"
   ]
  },
  {
   "cell_type": "code",
   "execution_count": 11,
   "id": "f3a49699",
   "metadata": {
    "execution": {
     "iopub.execute_input": "2023-02-14T18:09:45.546661Z",
     "iopub.status.busy": "2023-02-14T18:09:45.546090Z",
     "iopub.status.idle": "2023-02-14T18:09:45.919169Z",
     "shell.execute_reply": "2023-02-14T18:09:45.918138Z"
    },
    "papermill": {
     "duration": 0.387297,
     "end_time": "2023-02-14T18:09:45.922470",
     "exception": false,
     "start_time": "2023-02-14T18:09:45.535173",
     "status": "completed"
    },
    "tags": []
   },
   "outputs": [],
   "source": [
    "x1 = x1/255.0"
   ]
  },
  {
   "cell_type": "code",
   "execution_count": 12,
   "id": "9063ff47",
   "metadata": {
    "execution": {
     "iopub.execute_input": "2023-02-14T18:09:45.945643Z",
     "iopub.status.busy": "2023-02-14T18:09:45.945181Z",
     "iopub.status.idle": "2023-02-14T18:09:46.221114Z",
     "shell.execute_reply": "2023-02-14T18:09:46.220004Z"
    },
    "papermill": {
     "duration": 0.290956,
     "end_time": "2023-02-14T18:09:46.224615",
     "exception": false,
     "start_time": "2023-02-14T18:09:45.933659",
     "status": "completed"
    },
    "tags": []
   },
   "outputs": [],
   "source": [
    "x1=np.array(x1).reshape(-1,28,28,1)"
   ]
  },
  {
   "cell_type": "code",
   "execution_count": 13,
   "id": "37edb4f0",
   "metadata": {
    "execution": {
     "iopub.execute_input": "2023-02-14T18:09:46.247656Z",
     "iopub.status.busy": "2023-02-14T18:09:46.247255Z",
     "iopub.status.idle": "2023-02-14T18:09:46.257192Z",
     "shell.execute_reply": "2023-02-14T18:09:46.256424Z"
    },
    "papermill": {
     "duration": 0.023825,
     "end_time": "2023-02-14T18:09:46.259714",
     "exception": false,
     "start_time": "2023-02-14T18:09:46.235889",
     "status": "completed"
    },
    "tags": []
   },
   "outputs": [],
   "source": [
    "# one-hot-encoding\n",
    "y1=np.array(to_categorical(y1, num_classes=10))"
   ]
  },
  {
   "cell_type": "code",
   "execution_count": 14,
   "id": "a03c5ef4",
   "metadata": {
    "execution": {
     "iopub.execute_input": "2023-02-14T18:09:46.281571Z",
     "iopub.status.busy": "2023-02-14T18:09:46.281211Z",
     "iopub.status.idle": "2023-02-14T18:09:47.314568Z",
     "shell.execute_reply": "2023-02-14T18:09:47.313595Z"
    },
    "papermill": {
     "duration": 1.046678,
     "end_time": "2023-02-14T18:09:47.316928",
     "exception": false,
     "start_time": "2023-02-14T18:09:46.270250",
     "status": "completed"
    },
    "tags": []
   },
   "outputs": [],
   "source": [
    "x_tr,x_tt,y_tr,y_tt = train_test_split(x1,y1,test_size=0.2,random_state=42)"
   ]
  },
  {
   "cell_type": "markdown",
   "id": "cc616780",
   "metadata": {
    "papermill": {
     "duration": 0.006777,
     "end_time": "2023-02-14T18:09:47.330994",
     "exception": false,
     "start_time": "2023-02-14T18:09:47.324217",
     "status": "completed"
    },
    "tags": []
   },
   "source": [
    "model implementation"
   ]
  },
  {
   "cell_type": "code",
   "execution_count": 15,
   "id": "1d8313a7",
   "metadata": {
    "execution": {
     "iopub.execute_input": "2023-02-14T18:09:47.346384Z",
     "iopub.status.busy": "2023-02-14T18:09:47.346047Z",
     "iopub.status.idle": "2023-02-14T18:09:52.326763Z",
     "shell.execute_reply": "2023-02-14T18:09:52.325773Z"
    },
    "papermill": {
     "duration": 4.992287,
     "end_time": "2023-02-14T18:09:52.330414",
     "exception": false,
     "start_time": "2023-02-14T18:09:47.338127",
     "status": "completed"
    },
    "tags": []
   },
   "outputs": [
    {
     "name": "stderr",
     "output_type": "stream",
     "text": [
      "2023-02-14 18:09:47.493193: I tensorflow/stream_executor/cuda/cuda_gpu_executor.cc:937] successful NUMA node read from SysFS had negative value (-1), but there must be at least one NUMA node, so returning NUMA node zero\n",
      "2023-02-14 18:09:47.494219: I tensorflow/stream_executor/cuda/cuda_gpu_executor.cc:937] successful NUMA node read from SysFS had negative value (-1), but there must be at least one NUMA node, so returning NUMA node zero\n",
      "2023-02-14 18:09:47.754758: I tensorflow/stream_executor/cuda/cuda_gpu_executor.cc:937] successful NUMA node read from SysFS had negative value (-1), but there must be at least one NUMA node, so returning NUMA node zero\n",
      "2023-02-14 18:09:47.755618: I tensorflow/stream_executor/cuda/cuda_gpu_executor.cc:937] successful NUMA node read from SysFS had negative value (-1), but there must be at least one NUMA node, so returning NUMA node zero\n",
      "2023-02-14 18:09:47.756381: I tensorflow/stream_executor/cuda/cuda_gpu_executor.cc:937] successful NUMA node read from SysFS had negative value (-1), but there must be at least one NUMA node, so returning NUMA node zero\n",
      "2023-02-14 18:09:47.757112: I tensorflow/stream_executor/cuda/cuda_gpu_executor.cc:937] successful NUMA node read from SysFS had negative value (-1), but there must be at least one NUMA node, so returning NUMA node zero\n",
      "2023-02-14 18:09:47.758487: I tensorflow/core/platform/cpu_feature_guard.cc:142] This TensorFlow binary is optimized with oneAPI Deep Neural Network Library (oneDNN) to use the following CPU instructions in performance-critical operations:  AVX2 AVX512F FMA\n",
      "To enable them in other operations, rebuild TensorFlow with the appropriate compiler flags.\n",
      "2023-02-14 18:09:47.992443: I tensorflow/stream_executor/cuda/cuda_gpu_executor.cc:937] successful NUMA node read from SysFS had negative value (-1), but there must be at least one NUMA node, so returning NUMA node zero\n",
      "2023-02-14 18:09:47.993413: I tensorflow/stream_executor/cuda/cuda_gpu_executor.cc:937] successful NUMA node read from SysFS had negative value (-1), but there must be at least one NUMA node, so returning NUMA node zero\n",
      "2023-02-14 18:09:47.994188: I tensorflow/stream_executor/cuda/cuda_gpu_executor.cc:937] successful NUMA node read from SysFS had negative value (-1), but there must be at least one NUMA node, so returning NUMA node zero\n",
      "2023-02-14 18:09:47.994932: I tensorflow/stream_executor/cuda/cuda_gpu_executor.cc:937] successful NUMA node read from SysFS had negative value (-1), but there must be at least one NUMA node, so returning NUMA node zero\n",
      "2023-02-14 18:09:47.995659: I tensorflow/stream_executor/cuda/cuda_gpu_executor.cc:937] successful NUMA node read from SysFS had negative value (-1), but there must be at least one NUMA node, so returning NUMA node zero\n",
      "2023-02-14 18:09:47.996347: I tensorflow/stream_executor/cuda/cuda_gpu_executor.cc:937] successful NUMA node read from SysFS had negative value (-1), but there must be at least one NUMA node, so returning NUMA node zero\n",
      "2023-02-14 18:09:51.972894: I tensorflow/stream_executor/cuda/cuda_gpu_executor.cc:937] successful NUMA node read from SysFS had negative value (-1), but there must be at least one NUMA node, so returning NUMA node zero\n",
      "2023-02-14 18:09:51.973815: I tensorflow/stream_executor/cuda/cuda_gpu_executor.cc:937] successful NUMA node read from SysFS had negative value (-1), but there must be at least one NUMA node, so returning NUMA node zero\n",
      "2023-02-14 18:09:51.974595: I tensorflow/stream_executor/cuda/cuda_gpu_executor.cc:937] successful NUMA node read from SysFS had negative value (-1), but there must be at least one NUMA node, so returning NUMA node zero\n",
      "2023-02-14 18:09:51.975355: I tensorflow/stream_executor/cuda/cuda_gpu_executor.cc:937] successful NUMA node read from SysFS had negative value (-1), but there must be at least one NUMA node, so returning NUMA node zero\n",
      "2023-02-14 18:09:51.976032: I tensorflow/stream_executor/cuda/cuda_gpu_executor.cc:937] successful NUMA node read from SysFS had negative value (-1), but there must be at least one NUMA node, so returning NUMA node zero\n",
      "2023-02-14 18:09:51.976736: I tensorflow/core/common_runtime/gpu/gpu_device.cc:1510] Created device /job:localhost/replica:0/task:0/device:GPU:0 with 13789 MB memory:  -> device: 0, name: Tesla T4, pci bus id: 0000:00:04.0, compute capability: 7.5\n",
      "2023-02-14 18:09:51.981486: I tensorflow/stream_executor/cuda/cuda_gpu_executor.cc:937] successful NUMA node read from SysFS had negative value (-1), but there must be at least one NUMA node, so returning NUMA node zero\n",
      "2023-02-14 18:09:51.982303: I tensorflow/core/common_runtime/gpu/gpu_device.cc:1510] Created device /job:localhost/replica:0/task:0/device:GPU:1 with 13789 MB memory:  -> device: 1, name: Tesla T4, pci bus id: 0000:00:05.0, compute capability: 7.5\n"
     ]
    }
   ],
   "source": [
    "model = Sequential()"
   ]
  },
  {
   "cell_type": "code",
   "execution_count": 16,
   "id": "a49c4505",
   "metadata": {
    "execution": {
     "iopub.execute_input": "2023-02-14T18:09:52.346221Z",
     "iopub.status.busy": "2023-02-14T18:09:52.345923Z",
     "iopub.status.idle": "2023-02-14T18:09:52.680128Z",
     "shell.execute_reply": "2023-02-14T18:09:52.678752Z"
    },
    "papermill": {
     "duration": 0.345214,
     "end_time": "2023-02-14T18:09:52.683012",
     "exception": false,
     "start_time": "2023-02-14T18:09:52.337798",
     "status": "completed"
    },
    "tags": []
   },
   "outputs": [],
   "source": [
    "model.add(Conv2D(input_shape=(28,28,1),filters=32,kernel_size=(5,5),padding=\"same\",\n",
    "                 activation='relu'))\n",
    "model.add(BatchNormalization())\n",
    "model.add(Dropout(0.10))\n",
    "\n",
    "model.add(Conv2D(filters=32,kernel_size=(3,3),padding=\"same\",activation='relu'))\n",
    "model.add(BatchNormalization())\n",
    "model.add(MaxPool2D(pool_size=(2,2),strides=(2,2),padding=\"same\"))\n",
    "model.add(Dropout(0.10))\n",
    "\n",
    "model.add(Conv2D(filters=64,kernel_size=(3,3),activation='relu',padding=\"valid\"))\n",
    "model.add(BatchNormalization())\n",
    "model.add(Dropout(0.10))\n",
    "\n",
    "model.add(Conv2D(filters=128,kernel_size=(2,2),activation='relu',padding=\"same\",kernel_regularizer=tensorflow.keras.regularizers.L2(0.001)))\n",
    "model.add(BatchNormalization())\n",
    "model.add(MaxPool2D(pool_size=(2,2),padding=\"same\"))\n",
    "model.add(Dropout(0.20))\n",
    "\n",
    "model.add(Conv2D(filters=128,kernel_size=(2,2),activation='relu',padding=\"valid\"))\n",
    "model.add(BatchNormalization())\n",
    "model.add(Dropout(0.20))\n",
    "\n",
    "model.add(Conv2D(filters=256,kernel_size=(2,2),activation='relu',padding=\"valid\",kernel_regularizer=tensorflow.keras.regularizers.L2(0.001)))\n",
    "model.add(BatchNormalization())\n",
    "\n",
    "model.add(Conv2D(filters=256,kernel_size=(2,2),activation='relu',padding=\"same\"))\n",
    "model.add(BatchNormalization())\n",
    "model.add(MaxPool2D(pool_size=(2,2),strides=(2,2),padding=\"same\"))\n",
    "model.add(Dropout(0.20))\n",
    "\n",
    "model.add(Conv2D(filters=512,kernel_size=(2,2),activation='relu',padding=\"valid\",kernel_regularizer=tensorflow.keras.regularizers.L2(0.001)))\n",
    "model.add(BatchNormalization())\n",
    "\n",
    "model.add(Flatten())\n",
    "model.add(Dense(256,activation='elu',\n",
    "                kernel_regularizer=tensorflow.keras.regularizers.L2(0.001),kernel_initializer='he_normal'))\n",
    "model.add(BatchNormalization())\n",
    "model.add(Dropout(0.1))\n",
    "\n",
    "model.add(Dense(128,activation='elu',\n",
    "                kernel_regularizer=tensorflow.keras.regularizers.L2(0.001),kernel_initializer='he_normal'))\n",
    "model.add(BatchNormalization())\n",
    "model.add(Dropout(0.1))\n",
    "\n",
    "model.add(Dense(64,activation='elu',\n",
    "                kernel_regularizer=tensorflow.keras.regularizers.L2(0.001),kernel_initializer='he_normal'))\n",
    "model.add(BatchNormalization())\n",
    "model.add(Dropout(0.1))\n",
    "\n",
    "model.add(Dense(32,activation='elu',\n",
    "                kernel_regularizer=tensorflow.keras.regularizers.L2(0.001),kernel_initializer='he_normal'))\n",
    "model.add(BatchNormalization())\n",
    "model.add(Dropout(0.1))\n",
    "\n",
    "model.add(Dense(10,activation='softmax'))"
   ]
  },
  {
   "cell_type": "code",
   "execution_count": 17,
   "id": "9c8c0ede",
   "metadata": {
    "execution": {
     "iopub.execute_input": "2023-02-14T18:09:52.700597Z",
     "iopub.status.busy": "2023-02-14T18:09:52.699160Z",
     "iopub.status.idle": "2023-02-14T18:09:52.709595Z",
     "shell.execute_reply": "2023-02-14T18:09:52.708443Z"
    },
    "papermill": {
     "duration": 0.024338,
     "end_time": "2023-02-14T18:09:52.715048",
     "exception": false,
     "start_time": "2023-02-14T18:09:52.690710",
     "status": "completed"
    },
    "tags": []
   },
   "outputs": [
    {
     "name": "stdout",
     "output_type": "stream",
     "text": [
      "Model: \"sequential\"\n",
      "_________________________________________________________________\n",
      "Layer (type)                 Output Shape              Param #   \n",
      "=================================================================\n",
      "conv2d (Conv2D)              (None, 28, 28, 32)        832       \n",
      "_________________________________________________________________\n",
      "batch_normalization (BatchNo (None, 28, 28, 32)        128       \n",
      "_________________________________________________________________\n",
      "dropout (Dropout)            (None, 28, 28, 32)        0         \n",
      "_________________________________________________________________\n",
      "conv2d_1 (Conv2D)            (None, 28, 28, 32)        9248      \n",
      "_________________________________________________________________\n",
      "batch_normalization_1 (Batch (None, 28, 28, 32)        128       \n",
      "_________________________________________________________________\n",
      "max_pooling2d (MaxPooling2D) (None, 14, 14, 32)        0         \n",
      "_________________________________________________________________\n",
      "dropout_1 (Dropout)          (None, 14, 14, 32)        0         \n",
      "_________________________________________________________________\n",
      "conv2d_2 (Conv2D)            (None, 12, 12, 64)        18496     \n",
      "_________________________________________________________________\n",
      "batch_normalization_2 (Batch (None, 12, 12, 64)        256       \n",
      "_________________________________________________________________\n",
      "dropout_2 (Dropout)          (None, 12, 12, 64)        0         \n",
      "_________________________________________________________________\n",
      "conv2d_3 (Conv2D)            (None, 12, 12, 128)       32896     \n",
      "_________________________________________________________________\n",
      "batch_normalization_3 (Batch (None, 12, 12, 128)       512       \n",
      "_________________________________________________________________\n",
      "max_pooling2d_1 (MaxPooling2 (None, 6, 6, 128)         0         \n",
      "_________________________________________________________________\n",
      "dropout_3 (Dropout)          (None, 6, 6, 128)         0         \n",
      "_________________________________________________________________\n",
      "conv2d_4 (Conv2D)            (None, 5, 5, 128)         65664     \n",
      "_________________________________________________________________\n",
      "batch_normalization_4 (Batch (None, 5, 5, 128)         512       \n",
      "_________________________________________________________________\n",
      "dropout_4 (Dropout)          (None, 5, 5, 128)         0         \n",
      "_________________________________________________________________\n",
      "conv2d_5 (Conv2D)            (None, 4, 4, 256)         131328    \n",
      "_________________________________________________________________\n",
      "batch_normalization_5 (Batch (None, 4, 4, 256)         1024      \n",
      "_________________________________________________________________\n",
      "conv2d_6 (Conv2D)            (None, 4, 4, 256)         262400    \n",
      "_________________________________________________________________\n",
      "batch_normalization_6 (Batch (None, 4, 4, 256)         1024      \n",
      "_________________________________________________________________\n",
      "max_pooling2d_2 (MaxPooling2 (None, 2, 2, 256)         0         \n",
      "_________________________________________________________________\n",
      "dropout_5 (Dropout)          (None, 2, 2, 256)         0         \n",
      "_________________________________________________________________\n",
      "conv2d_7 (Conv2D)            (None, 1, 1, 512)         524800    \n",
      "_________________________________________________________________\n",
      "batch_normalization_7 (Batch (None, 1, 1, 512)         2048      \n",
      "_________________________________________________________________\n",
      "flatten (Flatten)            (None, 512)               0         \n",
      "_________________________________________________________________\n",
      "dense (Dense)                (None, 256)               131328    \n",
      "_________________________________________________________________\n",
      "batch_normalization_8 (Batch (None, 256)               1024      \n",
      "_________________________________________________________________\n",
      "dropout_6 (Dropout)          (None, 256)               0         \n",
      "_________________________________________________________________\n",
      "dense_1 (Dense)              (None, 128)               32896     \n",
      "_________________________________________________________________\n",
      "batch_normalization_9 (Batch (None, 128)               512       \n",
      "_________________________________________________________________\n",
      "dropout_7 (Dropout)          (None, 128)               0         \n",
      "_________________________________________________________________\n",
      "dense_2 (Dense)              (None, 64)                8256      \n",
      "_________________________________________________________________\n",
      "batch_normalization_10 (Batc (None, 64)                256       \n",
      "_________________________________________________________________\n",
      "dropout_8 (Dropout)          (None, 64)                0         \n",
      "_________________________________________________________________\n",
      "dense_3 (Dense)              (None, 32)                2080      \n",
      "_________________________________________________________________\n",
      "batch_normalization_11 (Batc (None, 32)                128       \n",
      "_________________________________________________________________\n",
      "dropout_9 (Dropout)          (None, 32)                0         \n",
      "_________________________________________________________________\n",
      "dense_4 (Dense)              (None, 10)                330       \n",
      "=================================================================\n",
      "Total params: 1,228,106\n",
      "Trainable params: 1,224,330\n",
      "Non-trainable params: 3,776\n",
      "_________________________________________________________________\n"
     ]
    }
   ],
   "source": [
    "model.summary()"
   ]
  },
  {
   "cell_type": "code",
   "execution_count": null,
   "id": "26a7fa53",
   "metadata": {
    "execution": {
     "iopub.execute_input": "2023-02-14T17:38:31.322908Z",
     "iopub.status.busy": "2023-02-14T17:38:31.322185Z",
     "iopub.status.idle": "2023-02-14T17:38:31.330605Z",
     "shell.execute_reply": "2023-02-14T17:38:31.329366Z",
     "shell.execute_reply.started": "2023-02-14T17:38:31.322866Z"
    },
    "papermill": {
     "duration": 0.007241,
     "end_time": "2023-02-14T18:09:52.730809",
     "exception": false,
     "start_time": "2023-02-14T18:09:52.723568",
     "status": "completed"
    },
    "tags": []
   },
   "outputs": [],
   "source": []
  },
  {
   "cell_type": "code",
   "execution_count": 18,
   "id": "4164b3ad",
   "metadata": {
    "execution": {
     "iopub.execute_input": "2023-02-14T18:09:52.746731Z",
     "iopub.status.busy": "2023-02-14T18:09:52.746447Z",
     "iopub.status.idle": "2023-02-14T18:09:52.759366Z",
     "shell.execute_reply": "2023-02-14T18:09:52.758501Z"
    },
    "papermill": {
     "duration": 0.023026,
     "end_time": "2023-02-14T18:09:52.761282",
     "exception": false,
     "start_time": "2023-02-14T18:09:52.738256",
     "status": "completed"
    },
    "tags": []
   },
   "outputs": [],
   "source": [
    "model.compile(optimizer= 'RMSprop',loss='categorical_crossentropy',metrics=['accuracy'],)"
   ]
  },
  {
   "cell_type": "code",
   "execution_count": 19,
   "id": "61f1451b",
   "metadata": {
    "execution": {
     "iopub.execute_input": "2023-02-14T18:09:52.777598Z",
     "iopub.status.busy": "2023-02-14T18:09:52.776769Z",
     "iopub.status.idle": "2023-02-14T18:09:52.782004Z",
     "shell.execute_reply": "2023-02-14T18:09:52.781002Z"
    },
    "papermill": {
     "duration": 0.015406,
     "end_time": "2023-02-14T18:09:52.784024",
     "exception": false,
     "start_time": "2023-02-14T18:09:52.768618",
     "status": "completed"
    },
    "tags": []
   },
   "outputs": [],
   "source": [
    "# data augmentation\n",
    "ImageDataGenerator = ImageDataGenerator(rotation_range=20,width_shift_range=0.1,\n",
    "                                        height_shift_range=0.1,zoom_range=0.1,\n",
    "                                        shear_range=0.15)"
   ]
  },
  {
   "cell_type": "code",
   "execution_count": 20,
   "id": "4f57721c",
   "metadata": {
    "execution": {
     "iopub.execute_input": "2023-02-14T18:09:52.799685Z",
     "iopub.status.busy": "2023-02-14T18:09:52.799426Z",
     "iopub.status.idle": "2023-02-14T18:09:52.804393Z",
     "shell.execute_reply": "2023-02-14T18:09:52.803456Z"
    },
    "papermill": {
     "duration": 0.015247,
     "end_time": "2023-02-14T18:09:52.806470",
     "exception": false,
     "start_time": "2023-02-14T18:09:52.791223",
     "status": "completed"
    },
    "tags": []
   },
   "outputs": [],
   "source": [
    "# reducing learning rate as getting closer to minima\n",
    "learning_rate_reducer = ReduceLROnPlateau(monitor='val_accuracy',patience=5,mode='auto',min_lr=0.0001)"
   ]
  },
  {
   "cell_type": "code",
   "execution_count": 21,
   "id": "18685c6d",
   "metadata": {
    "execution": {
     "iopub.execute_input": "2023-02-14T18:09:52.821747Z",
     "iopub.status.busy": "2023-02-14T18:09:52.821447Z",
     "iopub.status.idle": "2023-02-14T18:09:52.828143Z",
     "shell.execute_reply": "2023-02-14T18:09:52.827227Z"
    },
    "papermill": {
     "duration": 0.016493,
     "end_time": "2023-02-14T18:09:52.830212",
     "exception": false,
     "start_time": "2023-02-14T18:09:52.813719",
     "status": "completed"
    },
    "tags": []
   },
   "outputs": [
    {
     "data": {
      "text/plain": [
       "(10000, 28, 28)"
      ]
     },
     "execution_count": 21,
     "metadata": {},
     "output_type": "execute_result"
    }
   ],
   "source": [
    "x_test.shape"
   ]
  },
  {
   "cell_type": "code",
   "execution_count": 22,
   "id": "27b636d9",
   "metadata": {
    "execution": {
     "iopub.execute_input": "2023-02-14T18:09:52.846097Z",
     "iopub.status.busy": "2023-02-14T18:09:52.845806Z",
     "iopub.status.idle": "2023-02-14T18:26:08.913213Z",
     "shell.execute_reply": "2023-02-14T18:26:08.912196Z"
    },
    "papermill": {
     "duration": 976.078917,
     "end_time": "2023-02-14T18:26:08.916338",
     "exception": false,
     "start_time": "2023-02-14T18:09:52.837421",
     "status": "completed"
    },
    "tags": []
   },
   "outputs": [
    {
     "name": "stderr",
     "output_type": "stream",
     "text": [
      "2023-02-14 18:09:53.311181: I tensorflow/compiler/mlir/mlir_graph_optimization_pass.cc:185] None of the MLIR Optimization Passes are enabled (registered 2)\n"
     ]
    },
    {
     "name": "stdout",
     "output_type": "stream",
     "text": [
      "Epoch 1/30\n"
     ]
    },
    {
     "name": "stderr",
     "output_type": "stream",
     "text": [
      "2023-02-14 18:09:58.309385: I tensorflow/stream_executor/cuda/cuda_dnn.cc:369] Loaded cuDNN version 8005\n"
     ]
    },
    {
     "name": "stdout",
     "output_type": "stream",
     "text": [
      "350/350 [==============================] - 48s 91ms/step - loss: 1.2050 - accuracy: 0.9145 - val_loss: 0.8581 - val_accuracy: 0.8553\n",
      "Epoch 2/30\n",
      "350/350 [==============================] - 31s 89ms/step - loss: 0.3609 - accuracy: 0.9707 - val_loss: 0.3058 - val_accuracy: 0.9595\n",
      "Epoch 3/30\n",
      "350/350 [==============================] - 31s 88ms/step - loss: 0.2247 - accuracy: 0.9755 - val_loss: 0.1945 - val_accuracy: 0.9779\n",
      "Epoch 4/30\n",
      "350/350 [==============================] - 31s 88ms/step - loss: 0.1825 - accuracy: 0.9785 - val_loss: 0.1306 - val_accuracy: 0.9903\n",
      "Epoch 5/30\n",
      "350/350 [==============================] - 31s 88ms/step - loss: 0.1581 - accuracy: 0.9805 - val_loss: 0.1245 - val_accuracy: 0.9882\n",
      "Epoch 6/30\n",
      "350/350 [==============================] - 31s 88ms/step - loss: 0.1445 - accuracy: 0.9823 - val_loss: 0.1341 - val_accuracy: 0.9851\n",
      "Epoch 7/30\n",
      "350/350 [==============================] - 30s 87ms/step - loss: 0.1372 - accuracy: 0.9832 - val_loss: 0.0980 - val_accuracy: 0.9926\n",
      "Epoch 8/30\n",
      "350/350 [==============================] - 31s 88ms/step - loss: 0.1296 - accuracy: 0.9838 - val_loss: 0.0986 - val_accuracy: 0.9910\n",
      "Epoch 9/30\n",
      "350/350 [==============================] - 31s 88ms/step - loss: 0.1257 - accuracy: 0.9839 - val_loss: 0.1024 - val_accuracy: 0.9906\n",
      "Epoch 10/30\n",
      "350/350 [==============================] - 31s 88ms/step - loss: 0.1206 - accuracy: 0.9847 - val_loss: 0.0913 - val_accuracy: 0.9927\n",
      "Epoch 11/30\n",
      "350/350 [==============================] - 31s 88ms/step - loss: 0.1181 - accuracy: 0.9850 - val_loss: 0.0958 - val_accuracy: 0.9908\n",
      "Epoch 12/30\n",
      "350/350 [==============================] - 30s 86ms/step - loss: 0.1125 - accuracy: 0.9861 - val_loss: 0.0861 - val_accuracy: 0.9926\n",
      "Epoch 13/30\n",
      "350/350 [==============================] - 31s 88ms/step - loss: 0.0799 - accuracy: 0.9920 - val_loss: 0.0603 - val_accuracy: 0.9965\n",
      "Epoch 14/30\n",
      "350/350 [==============================] - 31s 88ms/step - loss: 0.0670 - accuracy: 0.9929 - val_loss: 0.0536 - val_accuracy: 0.9959\n",
      "Epoch 15/30\n",
      "350/350 [==============================] - 30s 87ms/step - loss: 0.0623 - accuracy: 0.9930 - val_loss: 0.0486 - val_accuracy: 0.9961\n",
      "Epoch 16/30\n",
      "350/350 [==============================] - 30s 86ms/step - loss: 0.0537 - accuracy: 0.9941 - val_loss: 0.0440 - val_accuracy: 0.9965\n",
      "Epoch 17/30\n",
      "350/350 [==============================] - 31s 88ms/step - loss: 0.0495 - accuracy: 0.9944 - val_loss: 0.0411 - val_accuracy: 0.9967\n",
      "Epoch 18/30\n",
      "350/350 [==============================] - 30s 86ms/step - loss: 0.0457 - accuracy: 0.9950 - val_loss: 0.0404 - val_accuracy: 0.9958\n",
      "Epoch 19/30\n",
      "350/350 [==============================] - 30s 87ms/step - loss: 0.0448 - accuracy: 0.9943 - val_loss: 0.0378 - val_accuracy: 0.9962\n",
      "Epoch 20/30\n",
      "350/350 [==============================] - 30s 86ms/step - loss: 0.0423 - accuracy: 0.9947 - val_loss: 0.0354 - val_accuracy: 0.9964\n",
      "Epoch 21/30\n",
      "350/350 [==============================] - 30s 86ms/step - loss: 0.0393 - accuracy: 0.9950 - val_loss: 0.0349 - val_accuracy: 0.9964\n",
      "Epoch 22/30\n",
      "350/350 [==============================] - 30s 86ms/step - loss: 0.0383 - accuracy: 0.9946 - val_loss: 0.0332 - val_accuracy: 0.9963\n",
      "Epoch 23/30\n",
      "350/350 [==============================] - 30s 86ms/step - loss: 0.0375 - accuracy: 0.9948 - val_loss: 0.0325 - val_accuracy: 0.9963\n",
      "Epoch 24/30\n",
      "350/350 [==============================] - 30s 85ms/step - loss: 0.0363 - accuracy: 0.9949 - val_loss: 0.0304 - val_accuracy: 0.9967\n",
      "Epoch 25/30\n",
      "350/350 [==============================] - 31s 88ms/step - loss: 0.0358 - accuracy: 0.9949 - val_loss: 0.0303 - val_accuracy: 0.9964\n",
      "Epoch 26/30\n",
      "350/350 [==============================] - 30s 86ms/step - loss: 0.0348 - accuracy: 0.9946 - val_loss: 0.0296 - val_accuracy: 0.9967\n",
      "Epoch 27/30\n",
      "350/350 [==============================] - 30s 86ms/step - loss: 0.0340 - accuracy: 0.9949 - val_loss: 0.0285 - val_accuracy: 0.9963\n",
      "Epoch 28/30\n",
      "350/350 [==============================] - 31s 88ms/step - loss: 0.0341 - accuracy: 0.9950 - val_loss: 0.0292 - val_accuracy: 0.9962\n",
      "Epoch 29/30\n",
      "350/350 [==============================] - 31s 87ms/step - loss: 0.0324 - accuracy: 0.9953 - val_loss: 0.0275 - val_accuracy: 0.9968\n",
      "Epoch 30/30\n",
      "350/350 [==============================] - 31s 87ms/step - loss: 0.0317 - accuracy: 0.9952 - val_loss: 0.0282 - val_accuracy: 0.9965\n"
     ]
    },
    {
     "data": {
      "text/plain": [
       "<keras.callbacks.History at 0x7f9ee0746f10>"
      ]
     },
     "execution_count": 22,
     "metadata": {},
     "output_type": "execute_result"
    }
   ],
   "source": [
    "ImageDataGenerator.fit(x_tr)\n",
    "model.fit_generator(ImageDataGenerator.flow(x_tr,y_tr,batch_size=256),epochs=30,\n",
    "                    steps_per_epoch=x_tr.shape[0] //256,callbacks=learning_rate_reducer,\n",
    "                    validation_data=(x_tt,y_tt))"
   ]
  },
  {
   "cell_type": "code",
   "execution_count": 23,
   "id": "c966a75b",
   "metadata": {
    "execution": {
     "iopub.execute_input": "2023-02-14T18:26:10.119184Z",
     "iopub.status.busy": "2023-02-14T18:26:10.118643Z",
     "iopub.status.idle": "2023-02-14T18:26:12.940883Z",
     "shell.execute_reply": "2023-02-14T18:26:12.939844Z"
    },
    "papermill": {
     "duration": 3.383499,
     "end_time": "2023-02-14T18:26:12.943285",
     "exception": false,
     "start_time": "2023-02-14T18:26:09.559786",
     "status": "completed"
    },
    "tags": []
   },
   "outputs": [],
   "source": [
    "# predict results\n",
    "test_df = test_df/255\n",
    "test_df=np.array(test_df).reshape(-1,28,28,1)\n",
    "results = model.predict(test_df)\n",
    "\n",
    "# select the indix with the maximum probability\n",
    "results = np.argmax(results,axis = 1)\n",
    "\n",
    "results = pd.Series(results,name=\"Label\")"
   ]
  },
  {
   "cell_type": "code",
   "execution_count": 24,
   "id": "3e03f241",
   "metadata": {
    "execution": {
     "iopub.execute_input": "2023-02-14T18:26:14.098040Z",
     "iopub.status.busy": "2023-02-14T18:26:14.097675Z",
     "iopub.status.idle": "2023-02-14T18:26:14.144111Z",
     "shell.execute_reply": "2023-02-14T18:26:14.143310Z"
    },
    "papermill": {
     "duration": 0.647548,
     "end_time": "2023-02-14T18:26:14.146555",
     "exception": false,
     "start_time": "2023-02-14T18:26:13.499007",
     "status": "completed"
    },
    "tags": []
   },
   "outputs": [],
   "source": [
    "submission = pd.concat([pd.Series(range(1,28001),name = \"ImageId\"),results],axis = 1)\n",
    "submission.to_csv(\"sample_submission.csv\",index=False)"
   ]
  },
  {
   "cell_type": "code",
   "execution_count": null,
   "id": "42eda721",
   "metadata": {
    "papermill": {
     "duration": 0.596144,
     "end_time": "2023-02-14T18:26:15.532730",
     "exception": false,
     "start_time": "2023-02-14T18:26:14.936586",
     "status": "completed"
    },
    "tags": []
   },
   "outputs": [],
   "source": []
  }
 ],
 "metadata": {
  "kernelspec": {
   "display_name": "Python 3",
   "language": "python",
   "name": "python3"
  },
  "language_info": {
   "codemirror_mode": {
    "name": "ipython",
    "version": 3
   },
   "file_extension": ".py",
   "mimetype": "text/x-python",
   "name": "python",
   "nbconvert_exporter": "python",
   "pygments_lexer": "ipython3",
   "version": "3.7.12"
  },
  "papermill": {
   "default_parameters": {},
   "duration": 1023.786246,
   "end_time": "2023-02-14T18:26:20.250951",
   "environment_variables": {},
   "exception": null,
   "input_path": "__notebook__.ipynb",
   "output_path": "__notebook__.ipynb",
   "parameters": {},
   "start_time": "2023-02-14T18:09:16.464705",
   "version": "2.3.4"
  }
 },
 "nbformat": 4,
 "nbformat_minor": 5
}
